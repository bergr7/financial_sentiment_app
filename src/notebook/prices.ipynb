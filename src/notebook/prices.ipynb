{
 "cells": [
  {
   "cell_type": "code",
   "execution_count": 96,
   "source": [
    "import yfinance as yf\n",
    "import pandas as pd\n",
    "import numpy as np\n",
    "import matplotlib.pyplot as plt\n",
    "import random"
   ],
   "outputs": [],
   "metadata": {}
  },
  {
   "cell_type": "code",
   "execution_count": 2,
   "source": [
    "\"\"\"\n",
    "Parse RSS Feed.\n",
    "\n",
    "\"\"\"\n",
    "\n",
    "import feedparser\n",
    "\n",
    "# rss keys -> dict_keys(['title', 'title_detail', 'links', 'link', 'id', 'guidislink', 'published', 'published_parsed', 'sa_author_name', 'media_thumbnail', 'href', 'sa_picture', 'sa_symbol', 'sa_company_name', 'sa_stock'])\n",
    "\n",
    "def rss_parser(url):\n",
    "    \"\"\"\n",
    "    Seeking Alpha RSS news parser.\n",
    "\n",
    "    Parameters\n",
    "    ----------\n",
    "    url: str, rss feed url\n",
    "\n",
    "    Returns\n",
    "    -------\n",
    "    news: dict, news fed by seeking alpha\n",
    "    \"\"\"\n",
    "    # parse news\n",
    "    try:\n",
    "        NewsFeed = feedparser.parse(url)\n",
    "    except Exception as e:\n",
    "        print(\"RSS feed not found.\")\n",
    "        print(e)\n",
    "\n",
    "    # get entries\n",
    "    entries = NewsFeed.entries\n",
    "    n_entries = len(entries)\n",
    "    if n_entries < 1:\n",
    "        print(\"Ticker not found or no news available.\")\n",
    "        return None\n",
    "    print(f\"Number of RSS posts: {n_entries}\")\n",
    "\n",
    "    # dict keys\n",
    "    keys = [\"title\", \"link\", \"published\", \"sa_company_name\", \"sa_author_name\"]\n",
    "\n",
    "    # store data in dict\n",
    "    news = dict()\n",
    "    for idx in range(n_entries):\n",
    "        # get entry\n",
    "        entry = entries[idx]\n",
    "        # save relevant data in dict\n",
    "        entry_dict = {key: entry[key] for key in keys}\n",
    "        # save news\n",
    "        news[idx] = entry_dict\n",
    "    \n",
    "    return news\n",
    "\n"
   ],
   "outputs": [],
   "metadata": {}
  },
  {
   "cell_type": "code",
   "execution_count": 3,
   "source": [
    "tsla = yf.Ticker(\"TSLA\")"
   ],
   "outputs": [],
   "metadata": {}
  },
  {
   "cell_type": "code",
   "execution_count": 4,
   "source": [
    "price_data = yf.download(\n",
    "    tickers=\"TSLA\",\n",
    "    period=\"1mo\",\n",
    "    interval=\"1d\"\n",
    ")\n",
    "price_data.head()"
   ],
   "outputs": [
    {
     "output_type": "stream",
     "name": "stdout",
     "text": [
      "[*********************100%***********************]  1 of 1 completed\n"
     ]
    },
    {
     "output_type": "execute_result",
     "data": {
      "text/html": [
       "<div>\n",
       "<style scoped>\n",
       "    .dataframe tbody tr th:only-of-type {\n",
       "        vertical-align: middle;\n",
       "    }\n",
       "\n",
       "    .dataframe tbody tr th {\n",
       "        vertical-align: top;\n",
       "    }\n",
       "\n",
       "    .dataframe thead th {\n",
       "        text-align: right;\n",
       "    }\n",
       "</style>\n",
       "<table border=\"1\" class=\"dataframe\">\n",
       "  <thead>\n",
       "    <tr style=\"text-align: right;\">\n",
       "      <th></th>\n",
       "      <th>Open</th>\n",
       "      <th>High</th>\n",
       "      <th>Low</th>\n",
       "      <th>Close</th>\n",
       "      <th>Adj Close</th>\n",
       "      <th>Volume</th>\n",
       "    </tr>\n",
       "    <tr>\n",
       "      <th>Date</th>\n",
       "      <th></th>\n",
       "      <th></th>\n",
       "      <th></th>\n",
       "      <th></th>\n",
       "      <th></th>\n",
       "      <th></th>\n",
       "    </tr>\n",
       "  </thead>\n",
       "  <tbody>\n",
       "    <tr>\n",
       "      <th>2021-08-18</th>\n",
       "      <td>669.750000</td>\n",
       "      <td>695.770020</td>\n",
       "      <td>669.349976</td>\n",
       "      <td>688.989990</td>\n",
       "      <td>688.989990</td>\n",
       "      <td>20349400</td>\n",
       "    </tr>\n",
       "    <tr>\n",
       "      <th>2021-08-19</th>\n",
       "      <td>678.210022</td>\n",
       "      <td>686.549988</td>\n",
       "      <td>667.590027</td>\n",
       "      <td>673.469971</td>\n",
       "      <td>673.469971</td>\n",
       "      <td>14313500</td>\n",
       "    </tr>\n",
       "    <tr>\n",
       "      <th>2021-08-20</th>\n",
       "      <td>682.849976</td>\n",
       "      <td>692.130005</td>\n",
       "      <td>673.700012</td>\n",
       "      <td>680.260010</td>\n",
       "      <td>680.260010</td>\n",
       "      <td>14781800</td>\n",
       "    </tr>\n",
       "    <tr>\n",
       "      <th>2021-08-23</th>\n",
       "      <td>685.440002</td>\n",
       "      <td>712.130005</td>\n",
       "      <td>680.750000</td>\n",
       "      <td>706.299988</td>\n",
       "      <td>706.299988</td>\n",
       "      <td>20264900</td>\n",
       "    </tr>\n",
       "    <tr>\n",
       "      <th>2021-08-24</th>\n",
       "      <td>710.679993</td>\n",
       "      <td>715.219971</td>\n",
       "      <td>702.640015</td>\n",
       "      <td>708.489990</td>\n",
       "      <td>708.489990</td>\n",
       "      <td>13083100</td>\n",
       "    </tr>\n",
       "  </tbody>\n",
       "</table>\n",
       "</div>"
      ],
      "text/plain": [
       "                  Open        High         Low       Close   Adj Close  \\\n",
       "Date                                                                     \n",
       "2021-08-18  669.750000  695.770020  669.349976  688.989990  688.989990   \n",
       "2021-08-19  678.210022  686.549988  667.590027  673.469971  673.469971   \n",
       "2021-08-20  682.849976  692.130005  673.700012  680.260010  680.260010   \n",
       "2021-08-23  685.440002  712.130005  680.750000  706.299988  706.299988   \n",
       "2021-08-24  710.679993  715.219971  702.640015  708.489990  708.489990   \n",
       "\n",
       "              Volume  \n",
       "Date                  \n",
       "2021-08-18  20349400  \n",
       "2021-08-19  14313500  \n",
       "2021-08-20  14781800  \n",
       "2021-08-23  20264900  \n",
       "2021-08-24  13083100  "
      ]
     },
     "metadata": {},
     "execution_count": 4
    }
   ],
   "metadata": {}
  },
  {
   "cell_type": "code",
   "execution_count": 5,
   "source": [
    "close_volume = price_data.loc[:, [\"Close\", \"Volume\"]]\n",
    "close_volume = close_volume.reset_index()\n",
    "close_volume = close_volume.rename(columns={\"Date\": \"date\", \"Close\": \"close\", \"Volume\": \"volume\"})\n"
   ],
   "outputs": [],
   "metadata": {}
  },
  {
   "cell_type": "code",
   "execution_count": 6,
   "source": [
    "url = \"https://seekingalpha.com/api/sa/combined/TSLA.xml\"\n",
    "news = rss_parser(url)"
   ],
   "outputs": [
    {
     "output_type": "stream",
     "name": "stdout",
     "text": [
      "Number of RSS posts: 30\n"
     ]
    }
   ],
   "metadata": {}
  },
  {
   "cell_type": "code",
   "execution_count": 78,
   "source": [
    "# merge inferences with news\n",
    "dates = []\n",
    "titles = []\n",
    "links = []\n",
    "for i in range(len(news)):\n",
    "    item = news[i]\n",
    "    dates.append(item[\"published\"][:-15])   # keep date only\n",
    "    titles.append(item[\"title\"])\n",
    "    links.append(item[\"link\"])\n",
    "\n",
    "data = pd.DataFrame([dates, titles, links]).T\n",
    "data = data.rename(columns={0: \"date\", 1: \"title\", 2: \"link\"})\n",
    "data[\"date\"] = data[\"date\"].map(lambda x: pd.to_datetime(x))\n",
    "data[\"sentiment_int\"] = [random.randint(-1, 1) for i in range(data.shape[0])]"
   ],
   "outputs": [],
   "metadata": {}
  },
  {
   "cell_type": "code",
   "execution_count": 79,
   "source": [
    "sent_dates = []\n",
    "n_news_list = []\n",
    "sent_scores = [] \n",
    "for date in data.date.sort_values().unique():\n",
    "    news_subset = data.loc[data.date == date]\n",
    "    sentiment_score = news_subset.sentiment_int.sum() / news_subset.shape[0]\n",
    "    n_news = news_subset.shape[0]\n",
    "    sent_dates.append(date)\n",
    "    n_news_list.append(n_news)\n",
    "    sent_scores.append(sentiment_score)\n",
    "\n",
    "ind_data = pd.DataFrame([sent_dates, sent_scores, n_news_list]).T.rename(columns={0: \"date\", 1: \"day_score\", 2: \"no_news\"})\n",
    "ind_data.head()"
   ],
   "outputs": [
    {
     "output_type": "execute_result",
     "data": {
      "text/html": [
       "<div>\n",
       "<style scoped>\n",
       "    .dataframe tbody tr th:only-of-type {\n",
       "        vertical-align: middle;\n",
       "    }\n",
       "\n",
       "    .dataframe tbody tr th {\n",
       "        vertical-align: top;\n",
       "    }\n",
       "\n",
       "    .dataframe thead th {\n",
       "        text-align: right;\n",
       "    }\n",
       "</style>\n",
       "<table border=\"1\" class=\"dataframe\">\n",
       "  <thead>\n",
       "    <tr style=\"text-align: right;\">\n",
       "      <th></th>\n",
       "      <th>date</th>\n",
       "      <th>day_score</th>\n",
       "      <th>no_news</th>\n",
       "    </tr>\n",
       "  </thead>\n",
       "  <tbody>\n",
       "    <tr>\n",
       "      <th>0</th>\n",
       "      <td>2021-08-24</td>\n",
       "      <td>-0.5</td>\n",
       "      <td>2</td>\n",
       "    </tr>\n",
       "    <tr>\n",
       "      <th>1</th>\n",
       "      <td>2021-08-27</td>\n",
       "      <td>0.0</td>\n",
       "      <td>1</td>\n",
       "    </tr>\n",
       "    <tr>\n",
       "      <th>2</th>\n",
       "      <td>2021-08-28</td>\n",
       "      <td>1.0</td>\n",
       "      <td>1</td>\n",
       "    </tr>\n",
       "    <tr>\n",
       "      <th>3</th>\n",
       "      <td>2021-08-29</td>\n",
       "      <td>1.0</td>\n",
       "      <td>1</td>\n",
       "    </tr>\n",
       "    <tr>\n",
       "      <th>4</th>\n",
       "      <td>2021-08-30</td>\n",
       "      <td>-1.0</td>\n",
       "      <td>1</td>\n",
       "    </tr>\n",
       "  </tbody>\n",
       "</table>\n",
       "</div>"
      ],
      "text/plain": [
       "        date day_score no_news\n",
       "0 2021-08-24      -0.5       2\n",
       "1 2021-08-27       0.0       1\n",
       "2 2021-08-28       1.0       1\n",
       "3 2021-08-29       1.0       1\n",
       "4 2021-08-30      -1.0       1"
      ]
     },
     "metadata": {},
     "execution_count": 79
    }
   ],
   "metadata": {}
  },
  {
   "cell_type": "code",
   "execution_count": 104,
   "source": [
    "dates_plot = np.array([pd.to_datetime(date, format=\"%Y-%m-%d\") for date in ind_data.date.values])\n",
    "dates_labels =  [str(date)[:-9] for date in dates_plot]\n",
    "volume = close_volume.loc[close_volume.date >= min(dates_plot), \"volume\"]\n",
    "sentiment_scores = ind_data.day_score.values\n",
    "\n",
    "fig = plt.figure(figsize=(20,4))\n",
    "\n",
    "ax1 = plt.subplot(121)\n",
    "ax2 = ax1.twinx()\n",
    "\n",
    "# conditional color scatter\n",
    "pos_idx = sentiment_scores > 0\n",
    "neg_idx = sentiment_scores < 0\n",
    "neu_idx = sentiment_scores == 0\n",
    "\n",
    "b = ax1.bar(dates_plot, volume, color=\"lightblue\")\n",
    "s = ax2.scatter(dates_plot[pos_idx], sentiment_scores[pos_idx], color=\"green\")\n",
    "s2 = ax2.scatter(dates_plot[neg_idx], sentiment_scores[neg_idx], color=\"red\")\n",
    "s3 = ax2.scatter(dates_plot[neu_idx], sentiment_scores[neu_idx], color=\"gray\")\n",
    "\n",
    "ax1.set_xticks(dates_plot)\n",
    "ax1.set_xticklabels(dates_labels, rotation=90)\n",
    "ax1.set_ylabel(\"Volume\")\n",
    "ax2.set_ylabel(\"Sentiment score\")\n",
    "\n",
    "ax2.axhline(0, 0, 1, color=\"gray\", linestyle=\"--\")\n",
    "plt.title(\"Daily sentiment score compared to traded volume\")\n"
   ],
   "outputs": [
    {
     "output_type": "display_data",
     "data": {
      "image/png": "[encoded data removed]",
      "text/plain": [
       "<Figure size 1440x288 with 2 Axes>"
      ]
     },
     "metadata": {
      "needs_background": "light"
     }
    }
   ],
   "metadata": {}
  },
  {
   "cell_type": "code",
   "execution_count": null,
   "source": [],
   "outputs": [],
   "metadata": {}
  }
 ],
 "metadata": {
  "orig_nbformat": 4,
  "language_info": {
   "name": "python",
   "version": "3.9.7",
   "mimetype": "text/x-python",
   "codemirror_mode": {
    "name": "ipython",
    "version": 3
   },
   "pygments_lexer": "ipython3",
   "nbconvert_exporter": "python",
   "file_extension": ".py"
  },
  "kernelspec": {
   "name": "python3",
   "display_name": "Python 3.9.7 64-bit ('sentiment_app': conda)"
  },
  "interpreter": {
   "hash": "ce149351490c16522dd03fc2f965621a02ef64a337728a39f2e0296254396b91"
  }
 },
 "nbformat": 4,
 "nbformat_minor": 2
}