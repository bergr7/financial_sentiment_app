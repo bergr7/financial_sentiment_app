{
 "cells": [
  {
   "cell_type": "code",
   "execution_count": 11,
   "source": [
    "import yfinance as yf\n",
    "import pandas as pd\n",
    "import numpy as np\n",
    "import matplotlib.pyplot as plt\n",
    "import random"
   ],
   "outputs": [],
   "metadata": {}
  },
  {
   "cell_type": "code",
   "execution_count": 12,
   "source": [
    "\"\"\"\n",
    "Parse RSS Feed.\n",
    "\n",
    "\"\"\"\n",
    "\n",
    "import feedparser\n",
    "\n",
    "# rss keys -> dict_keys(['title', 'title_detail', 'links', 'link', 'id', 'guidislink', 'published', 'published_parsed', 'sa_author_name', 'media_thumbnail', 'href', 'sa_picture', 'sa_symbol', 'sa_company_name', 'sa_stock'])\n",
    "\n",
    "def rss_parser(url):\n",
    "    \"\"\"\n",
    "    Seeking Alpha RSS news parser.\n",
    "\n",
    "    Parameters\n",
    "    ----------\n",
    "    url: str, rss feed url\n",
    "\n",
    "    Returns\n",
    "    -------\n",
    "    news: dict, news fed by seeking alpha\n",
    "    \"\"\"\n",
    "    # parse news\n",
    "    try:\n",
    "        NewsFeed = feedparser.parse(url)\n",
    "    except Exception as e:\n",
    "        print(\"RSS feed not found.\")\n",
    "        print(e)\n",
    "\n",
    "    # get entries\n",
    "    entries = NewsFeed.entries\n",
    "    n_entries = len(entries)\n",
    "    if n_entries < 1:\n",
    "        print(\"Ticker not found or no news available.\")\n",
    "        return None\n",
    "    print(f\"Number of RSS posts: {n_entries}\")\n",
    "\n",
    "    # dict keys\n",
    "    keys = [\"title\", \"link\", \"published\", \"sa_company_name\", \"sa_author_name\"]\n",
    "\n",
    "    # store data in dict\n",
    "    news = dict()\n",
    "    for idx in range(n_entries):\n",
    "        # get entry\n",
    "        entry = entries[idx]\n",
    "        # save relevant data in dict\n",
    "        entry_dict = {key: entry[key] for key in keys}\n",
    "        # save news\n",
    "        news[idx] = entry_dict\n",
    "    \n",
    "    return news\n",
    "\n"
   ],
   "outputs": [],
   "metadata": {}
  },
  {
   "cell_type": "code",
   "execution_count": 13,
   "source": [
    "tsla = yf.Ticker(\"TSLA\")"
   ],
   "outputs": [],
   "metadata": {}
  },
  {
   "cell_type": "code",
   "execution_count": 15,
   "source": [
    "price_data = yf.download(\n",
    "    tickers=\"TSLA\",\n",
    "    period=\"1mo\",\n",
    "    interval=\"1d\"\n",
    ")\n",
    "price_data.tail()"
   ],
   "outputs": [
    {
     "output_type": "stream",
     "name": "stdout",
     "text": [
      "[*********************100%***********************]  1 of 1 completed\n"
     ]
    },
    {
     "output_type": "execute_result",
     "data": {
      "text/html": [
       "<div>\n",
       "<style scoped>\n",
       "    .dataframe tbody tr th:only-of-type {\n",
       "        vertical-align: middle;\n",
       "    }\n",
       "\n",
       "    .dataframe tbody tr th {\n",
       "        vertical-align: top;\n",
       "    }\n",
       "\n",
       "    .dataframe thead th {\n",
       "        text-align: right;\n",
       "    }\n",
       "</style>\n",
       "<table border=\"1\" class=\"dataframe\">\n",
       "  <thead>\n",
       "    <tr style=\"text-align: right;\">\n",
       "      <th></th>\n",
       "      <th>Open</th>\n",
       "      <th>High</th>\n",
       "      <th>Low</th>\n",
       "      <th>Close</th>\n",
       "      <th>Adj Close</th>\n",
       "      <th>Volume</th>\n",
       "    </tr>\n",
       "    <tr>\n",
       "      <th>Date</th>\n",
       "      <th></th>\n",
       "      <th></th>\n",
       "      <th></th>\n",
       "      <th></th>\n",
       "      <th></th>\n",
       "      <th></th>\n",
       "    </tr>\n",
       "  </thead>\n",
       "  <tbody>\n",
       "    <tr>\n",
       "      <th>2021-09-20</th>\n",
       "      <td>734.559998</td>\n",
       "      <td>742.000000</td>\n",
       "      <td>718.619995</td>\n",
       "      <td>730.169983</td>\n",
       "      <td>730.169983</td>\n",
       "      <td>24757700</td>\n",
       "    </tr>\n",
       "    <tr>\n",
       "      <th>2021-09-21</th>\n",
       "      <td>734.789978</td>\n",
       "      <td>744.739990</td>\n",
       "      <td>730.440002</td>\n",
       "      <td>739.380005</td>\n",
       "      <td>739.380005</td>\n",
       "      <td>16330700</td>\n",
       "    </tr>\n",
       "    <tr>\n",
       "      <th>2021-09-22</th>\n",
       "      <td>743.530029</td>\n",
       "      <td>753.669983</td>\n",
       "      <td>739.119995</td>\n",
       "      <td>751.940002</td>\n",
       "      <td>751.940002</td>\n",
       "      <td>15126300</td>\n",
       "    </tr>\n",
       "    <tr>\n",
       "      <th>2021-09-23</th>\n",
       "      <td>755.000000</td>\n",
       "      <td>758.200012</td>\n",
       "      <td>747.919983</td>\n",
       "      <td>753.640015</td>\n",
       "      <td>753.640015</td>\n",
       "      <td>11947500</td>\n",
       "    </tr>\n",
       "    <tr>\n",
       "      <th>2021-09-24</th>\n",
       "      <td>745.890015</td>\n",
       "      <td>774.799988</td>\n",
       "      <td>744.559998</td>\n",
       "      <td>774.390015</td>\n",
       "      <td>774.390015</td>\n",
       "      <td>21336900</td>\n",
       "    </tr>\n",
       "  </tbody>\n",
       "</table>\n",
       "</div>"
      ],
      "text/plain": [
       "                  Open        High         Low       Close   Adj Close  \\\n",
       "Date                                                                     \n",
       "2021-09-20  734.559998  742.000000  718.619995  730.169983  730.169983   \n",
       "2021-09-21  734.789978  744.739990  730.440002  739.380005  739.380005   \n",
       "2021-09-22  743.530029  753.669983  739.119995  751.940002  751.940002   \n",
       "2021-09-23  755.000000  758.200012  747.919983  753.640015  753.640015   \n",
       "2021-09-24  745.890015  774.799988  744.559998  774.390015  774.390015   \n",
       "\n",
       "              Volume  \n",
       "Date                  \n",
       "2021-09-20  24757700  \n",
       "2021-09-21  16330700  \n",
       "2021-09-22  15126300  \n",
       "2021-09-23  11947500  \n",
       "2021-09-24  21336900  "
      ]
     },
     "metadata": {},
     "execution_count": 15
    }
   ],
   "metadata": {}
  },
  {
   "cell_type": "code",
   "execution_count": 16,
   "source": [
    "close_volume = price_data.loc[:, [\"Close\", \"Volume\"]]\n",
    "close_volume = close_volume.reset_index()\n",
    "close_volume = close_volume.rename(columns={\"Date\": \"date\", \"Close\": \"close\", \"Volume\": \"volume\"})\n"
   ],
   "outputs": [],
   "metadata": {}
  },
  {
   "cell_type": "code",
   "execution_count": 17,
   "source": [
    "close_volume.tail()"
   ],
   "outputs": [
    {
     "output_type": "execute_result",
     "data": {
      "text/html": [
       "<div>\n",
       "<style scoped>\n",
       "    .dataframe tbody tr th:only-of-type {\n",
       "        vertical-align: middle;\n",
       "    }\n",
       "\n",
       "    .dataframe tbody tr th {\n",
       "        vertical-align: top;\n",
       "    }\n",
       "\n",
       "    .dataframe thead th {\n",
       "        text-align: right;\n",
       "    }\n",
       "</style>\n",
       "<table border=\"1\" class=\"dataframe\">\n",
       "  <thead>\n",
       "    <tr style=\"text-align: right;\">\n",
       "      <th></th>\n",
       "      <th>date</th>\n",
       "      <th>close</th>\n",
       "      <th>volume</th>\n",
       "    </tr>\n",
       "  </thead>\n",
       "  <tbody>\n",
       "    <tr>\n",
       "      <th>17</th>\n",
       "      <td>2021-09-20</td>\n",
       "      <td>730.169983</td>\n",
       "      <td>24757700</td>\n",
       "    </tr>\n",
       "    <tr>\n",
       "      <th>18</th>\n",
       "      <td>2021-09-21</td>\n",
       "      <td>739.380005</td>\n",
       "      <td>16330700</td>\n",
       "    </tr>\n",
       "    <tr>\n",
       "      <th>19</th>\n",
       "      <td>2021-09-22</td>\n",
       "      <td>751.940002</td>\n",
       "      <td>15126300</td>\n",
       "    </tr>\n",
       "    <tr>\n",
       "      <th>20</th>\n",
       "      <td>2021-09-23</td>\n",
       "      <td>753.640015</td>\n",
       "      <td>11947500</td>\n",
       "    </tr>\n",
       "    <tr>\n",
       "      <th>21</th>\n",
       "      <td>2021-09-24</td>\n",
       "      <td>774.390015</td>\n",
       "      <td>21336900</td>\n",
       "    </tr>\n",
       "  </tbody>\n",
       "</table>\n",
       "</div>"
      ],
      "text/plain": [
       "         date       close    volume\n",
       "17 2021-09-20  730.169983  24757700\n",
       "18 2021-09-21  739.380005  16330700\n",
       "19 2021-09-22  751.940002  15126300\n",
       "20 2021-09-23  753.640015  11947500\n",
       "21 2021-09-24  774.390015  21336900"
      ]
     },
     "metadata": {},
     "execution_count": 17
    }
   ],
   "metadata": {}
  },
  {
   "cell_type": "code",
   "execution_count": 18,
   "source": [
    "url = \"https://seekingalpha.com/api/sa/combined/TSLA.xml\"\n",
    "news = rss_parser(url)"
   ],
   "outputs": [
    {
     "output_type": "stream",
     "name": "stdout",
     "text": [
      "Number of RSS posts: 30\n"
     ]
    }
   ],
   "metadata": {}
  },
  {
   "cell_type": "code",
   "execution_count": 20,
   "source": [
    "# merge inferences with news\n",
    "dates = []\n",
    "titles = []\n",
    "links = []\n",
    "for i in range(len(news)):\n",
    "    item = news[i]\n",
    "    dates.append(item[\"published\"][:-15])   # keep date only\n",
    "    titles.append(item[\"title\"])\n",
    "    links.append(item[\"link\"])\n",
    "\n",
    "data = pd.DataFrame([dates, titles, links]).T\n",
    "data = data.rename(columns={0: \"date\", 1: \"title\", 2: \"link\"})\n",
    "data[\"date\"] = data[\"date\"].map(lambda x: pd.to_datetime(x))\n",
    "data[\"sentiment_int\"] = [random.randint(-1, 1) for i in range(data.shape[0])]"
   ],
   "outputs": [],
   "metadata": {}
  },
  {
   "cell_type": "code",
   "execution_count": 22,
   "source": [
    "data.head()"
   ],
   "outputs": [
    {
     "output_type": "execute_result",
     "data": {
      "text/html": [
       "<div>\n",
       "<style scoped>\n",
       "    .dataframe tbody tr th:only-of-type {\n",
       "        vertical-align: middle;\n",
       "    }\n",
       "\n",
       "    .dataframe tbody tr th {\n",
       "        vertical-align: top;\n",
       "    }\n",
       "\n",
       "    .dataframe thead th {\n",
       "        text-align: right;\n",
       "    }\n",
       "</style>\n",
       "<table border=\"1\" class=\"dataframe\">\n",
       "  <thead>\n",
       "    <tr style=\"text-align: right;\">\n",
       "      <th></th>\n",
       "      <th>date</th>\n",
       "      <th>title</th>\n",
       "      <th>link</th>\n",
       "      <th>sentiment_int</th>\n",
       "    </tr>\n",
       "  </thead>\n",
       "  <tbody>\n",
       "    <tr>\n",
       "      <th>0</th>\n",
       "      <td>2021-09-24</td>\n",
       "      <td>Renewed Focus On Tesla's Energy Storage Growth...</td>\n",
       "      <td>https://seekingalpha.com/article/4456915-renew...</td>\n",
       "      <td>0</td>\n",
       "    </tr>\n",
       "    <tr>\n",
       "      <th>1</th>\n",
       "      <td>2021-09-24</td>\n",
       "      <td>Elon Musk upgrades global chip shortage to jus...</td>\n",
       "      <td>https://seekingalpha.com/symbol/TSLA/news?sour...</td>\n",
       "      <td>1</td>\n",
       "    </tr>\n",
       "    <tr>\n",
       "      <th>2</th>\n",
       "      <td>2021-09-23</td>\n",
       "      <td>Tesla: A Hedge Against Inflation</td>\n",
       "      <td>https://seekingalpha.com/article/4456771-tesla...</td>\n",
       "      <td>-1</td>\n",
       "    </tr>\n",
       "    <tr>\n",
       "      <th>3</th>\n",
       "      <td>2021-09-23</td>\n",
       "      <td>Tesla Sees Some Speed Bumps In A Quest To Win ...</td>\n",
       "      <td>https://seekingalpha.com/article/4456761-tesla...</td>\n",
       "      <td>-1</td>\n",
       "    </tr>\n",
       "    <tr>\n",
       "      <th>4</th>\n",
       "      <td>2021-09-23</td>\n",
       "      <td>Tesla sees a new bear on the prowl with Tudor,...</td>\n",
       "      <td>https://seekingalpha.com/symbol/TSLA/news?sour...</td>\n",
       "      <td>-1</td>\n",
       "    </tr>\n",
       "  </tbody>\n",
       "</table>\n",
       "</div>"
      ],
      "text/plain": [
       "        date                                              title  \\\n",
       "0 2021-09-24  Renewed Focus On Tesla's Energy Storage Growth...   \n",
       "1 2021-09-24  Elon Musk upgrades global chip shortage to jus...   \n",
       "2 2021-09-23                   Tesla: A Hedge Against Inflation   \n",
       "3 2021-09-23  Tesla Sees Some Speed Bumps In A Quest To Win ...   \n",
       "4 2021-09-23  Tesla sees a new bear on the prowl with Tudor,...   \n",
       "\n",
       "                                                link  sentiment_int  \n",
       "0  https://seekingalpha.com/article/4456915-renew...              0  \n",
       "1  https://seekingalpha.com/symbol/TSLA/news?sour...              1  \n",
       "2  https://seekingalpha.com/article/4456771-tesla...             -1  \n",
       "3  https://seekingalpha.com/article/4456761-tesla...             -1  \n",
       "4  https://seekingalpha.com/symbol/TSLA/news?sour...             -1  "
      ]
     },
     "metadata": {},
     "execution_count": 22
    }
   ],
   "metadata": {}
  },
  {
   "cell_type": "code",
   "execution_count": 24,
   "source": [
    "# get average daily sentiment and number of news per day\n",
    "sent_dates = []\n",
    "n_news_list = []\n",
    "sent_scores = [] \n",
    "for date in data.date.sort_values().unique():\n",
    "    news_subset = data.loc[data.date == date]\n",
    "    sentiment_score = news_subset.sentiment_int.sum() / news_subset.shape[0]\n",
    "    n_news = news_subset.shape[0]\n",
    "    sent_dates.append(date)\n",
    "    n_news_list.append(n_news)\n",
    "    sent_scores.append(sentiment_score)\n",
    "\n",
    "ind_data = pd.DataFrame([sent_dates, sent_scores, n_news_list]).T.rename(columns={0: \"date\", 1: \"day_score\", 2: \"no_news\"})\n",
    "ind_data.head()"
   ],
   "outputs": [
    {
     "output_type": "execute_result",
     "data": {
      "text/html": [
       "<div>\n",
       "<style scoped>\n",
       "    .dataframe tbody tr th:only-of-type {\n",
       "        vertical-align: middle;\n",
       "    }\n",
       "\n",
       "    .dataframe tbody tr th {\n",
       "        vertical-align: top;\n",
       "    }\n",
       "\n",
       "    .dataframe thead th {\n",
       "        text-align: right;\n",
       "    }\n",
       "</style>\n",
       "<table border=\"1\" class=\"dataframe\">\n",
       "  <thead>\n",
       "    <tr style=\"text-align: right;\">\n",
       "      <th></th>\n",
       "      <th>date</th>\n",
       "      <th>day_score</th>\n",
       "      <th>no_news</th>\n",
       "    </tr>\n",
       "  </thead>\n",
       "  <tbody>\n",
       "    <tr>\n",
       "      <th>0</th>\n",
       "      <td>2021-09-01</td>\n",
       "      <td>0.333333</td>\n",
       "      <td>3</td>\n",
       "    </tr>\n",
       "    <tr>\n",
       "      <th>1</th>\n",
       "      <td>2021-09-02</td>\n",
       "      <td>0.0</td>\n",
       "      <td>1</td>\n",
       "    </tr>\n",
       "    <tr>\n",
       "      <th>2</th>\n",
       "      <td>2021-09-03</td>\n",
       "      <td>-0.333333</td>\n",
       "      <td>3</td>\n",
       "    </tr>\n",
       "    <tr>\n",
       "      <th>3</th>\n",
       "      <td>2021-09-07</td>\n",
       "      <td>0.5</td>\n",
       "      <td>2</td>\n",
       "    </tr>\n",
       "    <tr>\n",
       "      <th>4</th>\n",
       "      <td>2021-09-08</td>\n",
       "      <td>-0.5</td>\n",
       "      <td>2</td>\n",
       "    </tr>\n",
       "  </tbody>\n",
       "</table>\n",
       "</div>"
      ],
      "text/plain": [
       "        date day_score no_news\n",
       "0 2021-09-01  0.333333       3\n",
       "1 2021-09-02       0.0       1\n",
       "2 2021-09-03 -0.333333       3\n",
       "3 2021-09-07       0.5       2\n",
       "4 2021-09-08      -0.5       2"
      ]
     },
     "metadata": {},
     "execution_count": 24
    }
   ],
   "metadata": {}
  },
  {
   "cell_type": "markdown",
   "source": [
    "> Chart: Volume compare to daily sentiment"
   ],
   "metadata": {}
  },
  {
   "cell_type": "code",
   "execution_count": 95,
   "source": [
    "dates_plot = np.array([pd.to_datetime(date, format=\"%Y-%m-%d\") for date in close_volume.date.values])\n",
    "dates_labels =  [str(date)[:-9] for date in dates_plot]\n",
    "volume = close_volume.loc[:, \"volume\"]\n",
    "dates_sent = ind_data.loc[ind_data.date >= dates_plot.min()].date.values\n",
    "sentiment_scores = ind_data.day_score.values\n",
    "\n",
    "fig = plt.figure(figsize=(20,4))\n",
    "\n",
    "ax1 = plt.subplot(121)\n",
    "ax2 = ax1.twinx()\n",
    "\n",
    "# conditional color scatter\n",
    "pos_idx = sentiment_scores > 0\n",
    "neg_idx = sentiment_scores < 0\n",
    "neu_idx = sentiment_scores == 0\n",
    "\n",
    "b = ax1.bar(dates_plot, volume, color=\"lightblue\")\n",
    "s = ax2.scatter(dates_sent[pos_idx], sentiment_scores[pos_idx], color=\"green\")\n",
    "s2 = ax2.scatter(dates_sent[neg_idx], sentiment_scores[neg_idx], color=\"red\")\n",
    "s3 = ax2.scatter(dates_sent[neu_idx], sentiment_scores[neu_idx], color=\"gray\")\n",
    "\n",
    "ax1.set_xticks(dates_plot)\n",
    "ax1.set_xticklabels(dates_labels, rotation=90)\n",
    "ax1.set_ylabel(\"Volume\")\n",
    "ax2.set_ylabel(\"Sentiment score\")\n",
    "\n",
    "ax2.axhline(0, 0, 1, color=\"gray\", linestyle=\"--\")\n",
    "plt.title(\"Daily sentiment score compared to traded volume\")\n"
   ],
   "outputs": [
    {
     "output_type": "execute_result",
     "data": {
      "text/plain": [
       "Text(0.5, 1.0, 'Daily sentiment score compared to traded volume')"
      ]
     },
     "metadata": {},
     "execution_count": 95
    },
    {
     "output_type": "display_data",
     "data": {
      "image/png": "[encoded data removed]",
      "text/plain": [
       "<Figure size 1440x288 with 2 Axes>"
      ]
     },
     "metadata": {
      "needs_background": "light"
     }
    }
   ],
   "metadata": {}
  },
  {
   "cell_type": "markdown",
   "source": [
    "> Chart: Line plot of close price and daily sentiment as bar chart"
   ],
   "metadata": {}
  },
  {
   "cell_type": "code",
   "execution_count": 47,
   "source": [
    "ind_data.head()"
   ],
   "outputs": [
    {
     "output_type": "execute_result",
     "data": {
      "text/html": [
       "<div>\n",
       "<style scoped>\n",
       "    .dataframe tbody tr th:only-of-type {\n",
       "        vertical-align: middle;\n",
       "    }\n",
       "\n",
       "    .dataframe tbody tr th {\n",
       "        vertical-align: top;\n",
       "    }\n",
       "\n",
       "    .dataframe thead th {\n",
       "        text-align: right;\n",
       "    }\n",
       "</style>\n",
       "<table border=\"1\" class=\"dataframe\">\n",
       "  <thead>\n",
       "    <tr style=\"text-align: right;\">\n",
       "      <th></th>\n",
       "      <th>date</th>\n",
       "      <th>day_score</th>\n",
       "      <th>no_news</th>\n",
       "    </tr>\n",
       "  </thead>\n",
       "  <tbody>\n",
       "    <tr>\n",
       "      <th>0</th>\n",
       "      <td>2021-09-01</td>\n",
       "      <td>0.333333</td>\n",
       "      <td>3</td>\n",
       "    </tr>\n",
       "    <tr>\n",
       "      <th>1</th>\n",
       "      <td>2021-09-02</td>\n",
       "      <td>0.0</td>\n",
       "      <td>1</td>\n",
       "    </tr>\n",
       "    <tr>\n",
       "      <th>2</th>\n",
       "      <td>2021-09-03</td>\n",
       "      <td>-0.333333</td>\n",
       "      <td>3</td>\n",
       "    </tr>\n",
       "    <tr>\n",
       "      <th>3</th>\n",
       "      <td>2021-09-07</td>\n",
       "      <td>0.5</td>\n",
       "      <td>2</td>\n",
       "    </tr>\n",
       "    <tr>\n",
       "      <th>4</th>\n",
       "      <td>2021-09-08</td>\n",
       "      <td>-0.5</td>\n",
       "      <td>2</td>\n",
       "    </tr>\n",
       "  </tbody>\n",
       "</table>\n",
       "</div>"
      ],
      "text/plain": [
       "        date day_score no_news\n",
       "0 2021-09-01  0.333333       3\n",
       "1 2021-09-02       0.0       1\n",
       "2 2021-09-03 -0.333333       3\n",
       "3 2021-09-07       0.5       2\n",
       "4 2021-09-08      -0.5       2"
      ]
     },
     "metadata": {},
     "execution_count": 47
    }
   ],
   "metadata": {}
  },
  {
   "cell_type": "code",
   "execution_count": 48,
   "source": [
    "close_volume.head()"
   ],
   "outputs": [
    {
     "output_type": "execute_result",
     "data": {
      "text/html": [
       "<div>\n",
       "<style scoped>\n",
       "    .dataframe tbody tr th:only-of-type {\n",
       "        vertical-align: middle;\n",
       "    }\n",
       "\n",
       "    .dataframe tbody tr th {\n",
       "        vertical-align: top;\n",
       "    }\n",
       "\n",
       "    .dataframe thead th {\n",
       "        text-align: right;\n",
       "    }\n",
       "</style>\n",
       "<table border=\"1\" class=\"dataframe\">\n",
       "  <thead>\n",
       "    <tr style=\"text-align: right;\">\n",
       "      <th></th>\n",
       "      <th>date</th>\n",
       "      <th>close</th>\n",
       "      <th>volume</th>\n",
       "    </tr>\n",
       "  </thead>\n",
       "  <tbody>\n",
       "    <tr>\n",
       "      <th>0</th>\n",
       "      <td>2021-08-25</td>\n",
       "      <td>711.200012</td>\n",
       "      <td>12645600</td>\n",
       "    </tr>\n",
       "    <tr>\n",
       "      <th>1</th>\n",
       "      <td>2021-08-26</td>\n",
       "      <td>701.159973</td>\n",
       "      <td>13214300</td>\n",
       "    </tr>\n",
       "    <tr>\n",
       "      <th>2</th>\n",
       "      <td>2021-08-27</td>\n",
       "      <td>711.919983</td>\n",
       "      <td>13762100</td>\n",
       "    </tr>\n",
       "    <tr>\n",
       "      <th>3</th>\n",
       "      <td>2021-08-30</td>\n",
       "      <td>730.909973</td>\n",
       "      <td>18604200</td>\n",
       "    </tr>\n",
       "    <tr>\n",
       "      <th>4</th>\n",
       "      <td>2021-08-31</td>\n",
       "      <td>735.719971</td>\n",
       "      <td>20855400</td>\n",
       "    </tr>\n",
       "  </tbody>\n",
       "</table>\n",
       "</div>"
      ],
      "text/plain": [
       "        date       close    volume\n",
       "0 2021-08-25  711.200012  12645600\n",
       "1 2021-08-26  701.159973  13214300\n",
       "2 2021-08-27  711.919983  13762100\n",
       "3 2021-08-30  730.909973  18604200\n",
       "4 2021-08-31  735.719971  20855400"
      ]
     },
     "metadata": {},
     "execution_count": 48
    }
   ],
   "metadata": {}
  },
  {
   "cell_type": "code",
   "execution_count": 94,
   "source": [
    "dates_plot = np.array([pd.to_datetime(date, format=\"%Y-%m-%d\") for date in close_volume.date.values])\n",
    "dates_labels =  [str(date)[:-9] for date in dates_plot]\n",
    "close = close_volume.loc[:, \"close\"]\n",
    "dates_sent = ind_data.date.values[ind_data.date.values >= dates_plot.min()]\n",
    "sentiment_scores = ind_data.day_score.values\n",
    "\n",
    "fig = plt.figure(figsize=(20,4))\n",
    "\n",
    "ax1 = plt.subplot(121)\n",
    "ax2 = ax1.twinx()\n",
    "\n",
    "# conditional color\n",
    "pos_idx = sentiment_scores > 0\n",
    "neg_idx = sentiment_scores < 0\n",
    "\n",
    "l = ax1.plot(dates_plot, close, color=\"black\", lw=1.5)\n",
    "b = ax2.bar(dates_sent[pos_idx], sentiment_scores[pos_idx], color=\"palegreen\", alpha=0.5)\n",
    "b2 = ax2.bar(dates_sent[neg_idx], sentiment_scores[neg_idx], color=\"indianred\", alpha=0.5)\n",
    "\n",
    "ax1.set_xticks(dates_plot)\n",
    "ax1.set_xticklabels(dates_labels, rotation=90)\n",
    "ax1.set_ylabel(\"Price Close\")\n",
    "ax2.set_ylabel(\"Sentiment score\")\n",
    "\n",
    "ax2.axhline(0, 0, 1, color=\"gray\", linestyle=\"--\")\n",
    "plt.title(\"Daily sentiment score compared to close price\")\n",
    "\n",
    "plt.show()"
   ],
   "outputs": [
    {
     "output_type": "display_data",
     "data": {
      "image/png": "[encoded data removed]",
      "text/plain": [
       "<Figure size 1440x288 with 2 Axes>"
      ]
     },
     "metadata": {
      "needs_background": "light"
     }
    }
   ],
   "metadata": {}
  },
  {
   "cell_type": "code",
   "execution_count": null,
   "source": [],
   "outputs": [],
   "metadata": {}
  }
 ],
 "metadata": {
  "orig_nbformat": 4,
  "language_info": {
   "name": "python",
   "version": "3.9.7",
   "mimetype": "text/x-python",
   "codemirror_mode": {
    "name": "ipython",
    "version": 3
   },
   "pygments_lexer": "ipython3",
   "nbconvert_exporter": "python",
   "file_extension": ".py"
  },
  "kernelspec": {
   "name": "python3",
   "display_name": "Python 3.9.7 64-bit ('sentiment_app': conda)"
  },
  "interpreter": {
   "hash": "ce149351490c16522dd03fc2f965621a02ef64a337728a39f2e0296254396b91"
  }
 },
 "nbformat": 4,
 "nbformat_minor": 2
}